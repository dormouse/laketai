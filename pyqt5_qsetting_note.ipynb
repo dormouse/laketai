{
 "cells": [
  {
   "cell_type": "markdown",
   "metadata": {},
   "source": [
    "# PyQt5 QSettings Note"
   ]
  },
  {
   "cell_type": "markdown",
   "metadata": {},
   "source": [
    "## 保存应用窗口大小和位置的例子\n",
    "```\n",
    "    def read_settings(self):\n",
    "        settings = QSettings(\"Dormouse\", \"LakeTai\")\n",
    "        pos = settings.value(\"pos\", QPoint(200, 200))\n",
    "        size = settings.value(\"size\", QSize(400, 400))\n",
    "        self.resize(size)\n",
    "        self.move(pos)\n",
    "\n",
    "    def write_settings(self):\n",
    "        settings = QSettings(\"Dormouse\", \"LakeTai\")\n",
    "        settings.setValue(\"pos\", self.pos())\n",
    "        settings.setValue(\"size\", self.size())\n",
    "```"
   ]
  },
  {
   "cell_type": "code",
   "execution_count": 10,
   "metadata": {
    "collapsed": false
   },
   "outputs": [],
   "source": [
    "from PyQt5.QtCore import QSettings"
   ]
  },
  {
   "cell_type": "markdown",
   "metadata": {},
   "source": [
    "## 最简单的用法"
   ]
  },
  {
   "cell_type": "code",
   "execution_count": 2,
   "metadata": {
    "collapsed": false
   },
   "outputs": [
    {
     "name": "stdout",
     "output_type": "stream",
     "text": [
      "68\nNone\n"
     ]
    }
   ],
   "source": [
    "myOrganization = 'MyOrg'  # 组织名称\n",
    "myApplication = 'MyApp'  # 应用名称\n",
    "settings = QSettings(myOrganization, myApplication)\n",
    "settings.setValue(\"editor/wrapMargin\", 68)\n",
    "print (settings.value(\"editor/wrapMargin\"))\n",
    "print (settings.value(\"editor/someth\"))"
   ]
  },
  {
   "cell_type": "code",
   "execution_count": 3,
   "metadata": {
    "collapsed": false
   },
   "outputs": [
    {
     "name": "stdout",
     "output_type": "stream",
     "text": [
      "MyApp\nMyApp2nd\nMyOrg2nd.com\n"
     ]
    }
   ],
   "source": [
    "# 如果在程序中多处用到 QSettings ，那么可以一次性定义，然后统一使用\n",
    "from PyQt5.QtCore import QCoreApplication\n",
    "QCoreApplication.setOrganizationName(\"MyOrg2nd\")\n",
    "QCoreApplication.setOrganizationDomain(\"MyOrg2nd.com\")\n",
    "QCoreApplication.setApplicationName(\"MyApp2nd\")\n",
    "settings_2nd = QSettings()\n",
    "print (settings.applicationName())\n",
    "print (settings_2nd.applicationName())\n",
    "print (settings_2nd.organizationName())"
   ]
  },
  {
   "cell_type": "code",
   "execution_count": 4,
   "metadata": {
    "collapsed": false
   },
   "outputs": [
    {
     "data": {
      "text/plain": [
       "True"
      ]
     },
     "execution_count": 4,
     "metadata": {},
     "output_type": "execute_result"
    }
   ],
   "source": [
    "# 测试键是否存在\n",
    "settings.contains(\"editor\")\n",
    "settings.contains(\"editor/wrapMargin\")"
   ]
  },
  {
   "cell_type": "code",
   "execution_count": 5,
   "metadata": {
    "collapsed": false
   },
   "outputs": [
    {
     "data": {
      "text/plain": [
       "False"
      ]
     },
     "execution_count": 5,
     "metadata": {},
     "output_type": "execute_result"
    }
   ],
   "source": [
    "settings.remove(\"editor\") #删除一个键，键不存在也不会报错\n",
    "settings.contains(\"editor/wrapMargin\")"
   ]
  },
  {
   "cell_type": "code",
   "execution_count": 6,
   "metadata": {
    "collapsed": true
   },
   "outputs": [
    {
     "data": {
      "text/plain": [
       "['AKDeviceUnlockState',\n 'AppleActionOnDoubleClick',\n 'AppleAntiAliasingThreshold',\n 'AppleEnableMouseSwipeNavigateWithScrolls',\n 'AppleLanguages',\n 'AppleLocale',\n 'AppleMeasurementUnits',\n 'AppleMetricUnits',\n 'AppleMiniaturizeOnDoubleClick',\n 'ApplePressAndHoldEnabled',\n 'AppleTextDirection',\n 'Country',\n 'InitialKeyRepeat',\n 'MultipleSessionEnabled',\n 'NSAutomaticDashSubstitutionEnabled',\n 'NSAutomaticQuoteSubstitutionEnabled',\n 'NSAutomaticSpellingCorrectionEnabled',\n 'NSNavPanelFileLastListModeForOpenModeKey',\n 'NSNavPanelFileListModeForOpenMode2',\n 'NSNavPanelSidebarKeyForOpen',\n 'NSNavRecentPlaces',\n 'NSPersonNameDefaultDisplayNameOrder',\n 'NSPersonNameDefaultShortNameFormat',\n 'NSPersonNameDefaultShouldPreferNicknamesPreference',\n 'NSPreferredWebServices',\n 'NSUserDictionaryReplacementItems',\n 'NavPanelFileListModeForOpenMode',\n 'WebAutomaticSpellingCorrectionEnabled',\n 'com/apple/AppleModemSettingTool/LastCountryCode',\n 'com/apple/ColorSync/Devices',\n 'com/apple/TimeZonePref/Last_Selected_City',\n 'com/apple/mouse/scaling',\n 'com/apple/mouse/tapBehavior',\n 'com/apple/preferences/timezone/selected_city',\n 'com/apple/springing/delay',\n 'com/apple/springing/enabled',\n 'com/apple/trackpad/enableSecondaryClick',\n 'com/apple/trackpad/fiveFingerPinchSwipeGesture',\n 'com/apple/trackpad/forceClick',\n 'com/apple/trackpad/fourFingerHorizSwipeGesture',\n 'com/apple/trackpad/fourFingerPinchSwipeGesture',\n 'com/apple/trackpad/fourFingerVertSwipeGesture',\n 'com/apple/trackpad/momentumScroll',\n 'com/apple/trackpad/pinchGesture',\n 'com/apple/trackpad/rotateGesture',\n 'com/apple/trackpad/scaling',\n 'com/apple/trackpad/scrollBehavior',\n 'com/apple/trackpad/threeFingerDragGesture',\n 'com/apple/trackpad/threeFingerHorizSwipeGesture',\n 'com/apple/trackpad/threeFingerTapGesture',\n 'com/apple/trackpad/threeFingerVertSwipeGesture',\n 'com/apple/trackpad/twoFingerDoubleTapGesture',\n 'com/apple/trackpad/twoFingerFromRightEdgeSwipeGesture',\n 'com/apple/trackpad/version',\n 'com/apple/updatesettings_did_disable_ftp']"
      ]
     },
     "execution_count": 6,
     "metadata": {},
     "output_type": "execute_result"
    }
   ],
   "source": [
    "settings.clear()  #清空所有键（只是清空自己添加的，系统固有的还在）\n",
    "settings.allKeys()  #所有键"
   ]
  },
  {
   "cell_type": "code",
   "execution_count": 8,
   "metadata": {
    "collapsed": false
   },
   "outputs": [
    {
     "data": {
      "text/plain": [
       "'/Users/dormouse/Library/Preferences/com.myorg.MyApp.plist'"
      ]
     },
     "execution_count": 8,
     "metadata": {},
     "output_type": "execute_result"
    }
   ],
   "source": [
    "settings.fileName() #储存位置"
   ]
  },
  {
   "cell_type": "code",
   "execution_count": 9,
   "metadata": {
    "collapsed": false
   },
   "outputs": [
    {
     "data": {
      "text/plain": [
       "'/Users/dormouse/project/laketai/conf.ini'"
      ]
     },
     "execution_count": 9,
     "metadata": {},
     "output_type": "execute_result"
    }
   ],
   "source": [
    "settings_ini = QSettings(\"conf.ini\", QSettings.IniFormat) #使用 ini 文件来储存\n",
    "settings_ini.fileName()"
   ]
  },
  {
   "cell_type": "markdown",
   "metadata": {},
   "source": [
    "参考资料：\n",
    "http://doc.qt.io/qt-5/qsettings.html"
   ]
  },
  {
   "cell_type": "code",
   "execution_count": null,
   "metadata": {},
   "outputs": [],
   "source": [
    ""
   ]
  }
 ],
 "metadata": {
  "kernelspec": {
   "display_name": "Python 3",
   "language": "python",
   "name": "python3"
  },
  "language_info": {
   "codemirror_mode": {
    "name": "ipython",
    "version": 3.0
   },
   "file_extension": ".py",
   "mimetype": "text/x-python",
   "name": "python",
   "nbconvert_exporter": "python",
   "pygments_lexer": "ipython3",
   "version": "3.5.2"
  }
 },
 "nbformat": 4,
 "nbformat_minor": 0
}